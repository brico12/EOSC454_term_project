{
 "cells": [
  {
   "cell_type": "code",
   "execution_count": 2,
   "id": "c77c86b9-949e-4049-8186-9a761b9d1745",
   "metadata": {},
   "outputs": [
    {
     "name": "stderr",
     "output_type": "stream",
     "text": [
      "/var/folders/r2/7lcfqppd1sg_grmh2b54b79r0000gn/T/ipykernel_54024/3802917825.py:6: FutureWarning: Importing `SimPEG` is deprecated. please import from `simpeg`.\n",
      "  from SimPEG import seismic\n"
     ]
    }
   ],
   "source": [
    "import numpy as np\n",
    "import matplotlib.pyplot as plt\n",
    "\n",
    "import discretize\n",
    "\n",
    "from SimPEG import seismic\n",
    "\n",
    "from SimPEG import (\n",
    "    maps,\n",
    "    utils,\n",
    "    survey,\n",
    "    data,\n",
    "    data_misfit,\n",
    "    directives,\n",
    "    optimization,\n",
    "    regularization,\n",
    "    inverse_problem,\n",
    "    inversion,\n",
    ")"
   ]
  },
  {
   "cell_type": "code",
   "execution_count": 3,
   "id": "dcc722ca-15af-4e61-b05d-7d8c0db8d2fa",
   "metadata": {},
   "outputs": [
    {
     "data": {
      "text/html": [
       "<table>\n",
       "  <tr>\n",
       "    <td style='font-weight: bold; font-size: 1.2em; text-align: center;' colspan='3'>TensorMesh</td>\n",
       "    <td style='font-size: 1.2em; text-align: center;'colspan='4'>800 cells</td>\n",
       "  </tr>\n",
       "  <tr>\n",
       "    <th></th>\n",
       "    <th></th>\n",
       "    <th colspan='2' style='padding: 5px 20px 5px 20px;'>MESH EXTENT</th>\n",
       "    <th colspan='2' style='padding: 5px 20px 5px 20px;'>CELL WIDTH</th>\n",
       "    <th style='padding: 5px 20px 5px 20px;'>FACTOR</th>\n",
       "  </tr>\n",
       "  <tr>\n",
       "    <th style='padding: 5px 20px 5px 20px;'>dir</th>\n",
       "    <th style='padding: 5px 20px 5px 20px;'>nC</th>\n",
       "    <th style='padding: 5px 20px 5px 20px;'>min</th>\n",
       "    <th style='padding: 5px 20px 5px 20px;'>max</th>\n",
       "    <th style='padding: 5px 20px 5px 20px;'>min</th>\n",
       "    <th style='padding: 5px 20px 5px 20px;'>max</th>\n",
       "    <th style='padding: 5px 20px 5px 20px;'>max</th>\n",
       "  </tr>\n",
       "  <tr>\n",
       "    <td style='padding: 5px 20px 5px 20px;'>x</td>\n",
       "    <td style='padding: 5px 20px 5px 20px;'>20</td>\n",
       "    <td style='padding: 5px 20px 5px 20px;'>0.00</td>\n",
       "    <td style='padding: 5px 20px 5px 20px;'>200.00</td>\n",
       "    <td style='padding: 5px 20px 5px 20px;'>10.00</td>\n",
       "    <td style='padding: 5px 20px 5px 20px;'>10.00</td>\n",
       "    <td style='padding: 5px 20px 5px 20px;'>1.00</td>\n",
       "  </tr>\n",
       "  <tr>\n",
       "    <td style='padding: 5px 20px 5px 20px;'>y</td>\n",
       "    <td style='padding: 5px 20px 5px 20px;'>40</td>\n",
       "    <td style='padding: 5px 20px 5px 20px;'>0.00</td>\n",
       "    <td style='padding: 5px 20px 5px 20px;'>400.00</td>\n",
       "    <td style='padding: 5px 20px 5px 20px;'>10.00</td>\n",
       "    <td style='padding: 5px 20px 5px 20px;'>10.00</td>\n",
       "    <td style='padding: 5px 20px 5px 20px;'>1.00</td>\n",
       "  </tr>\n",
       "</table>\n"
      ],
      "text/plain": [
       "\n",
       "  TensorMesh: 800 cells\n",
       "\n",
       "                      MESH EXTENT             CELL WIDTH      FACTOR\n",
       "  dir    nC        min           max         min       max      max\n",
       "  ---   ---  ---------------------------  ------------------  ------\n",
       "   x     20          0.00        200.00     10.00     10.00    1.00\n",
       "   y     40          0.00        400.00     10.00     10.00    1.00\n"
      ]
     },
     "execution_count": 3,
     "metadata": {},
     "output_type": "execute_result"
    }
   ],
   "source": [
    "extent_x = 200 \n",
    "extent_y = 400\n",
    "\n",
    "dx = 10\n",
    "dy = 10\n",
    "\n",
    "nx = int(np.ceil(extent_x / dx))\n",
    "ny = int(np.ceil(extent_y / dy))\n",
    "\n",
    "hx = np.ones(nx) * dx\n",
    "hy = np.ones(ny) * dy\n",
    "\n",
    "# n_src = 10\n",
    "# y_src = np.linspace(dy/2, extent_y-dy/2, n_src)\n",
    "\n",
    "n_src = 16\n",
    "n_rec = 16\n",
    "\n",
    "mesh = discretize.TensorMesh([hx, hy])\n",
    "mesh"
   ]
  },
  {
   "cell_type": "code",
   "execution_count": 4,
   "id": "a3b04a63-7809-4937-bd8b-86ea55c8f292",
   "metadata": {},
   "outputs": [],
   "source": [
    "# source_locations = np.c_[np.zeros_like(y_src), y_src]\n",
    "# receiver_locations = np.c_[np.zeros_like(y_src) + mesh.nodes_x[-1], y_src]"
   ]
  },
  {
   "cell_type": "code",
   "execution_count": 5,
   "id": "f2d8ab25-366f-41b6-8e5f-caf32ec40179",
   "metadata": {},
   "outputs": [],
   "source": [
    "x_src = np.linspace(dx, extent_x - dx, int(np.sqrt(n_src)))\n",
    "y_src = np.linspace(dy, extent_y - dy, int(np.sqrt(n_src)))\n",
    "xv_src, yv_src = np.meshgrid(x_src, y_src)\n",
    "source_locations = np.c_[xv_src.ravel(), yv_src.ravel()] \n",
    "\n",
    "x_rec = np.linspace(dx, extent_x - dx, int(np.sqrt(n_rec)))\n",
    "y_rec = np.linspace(dy, extent_y - dy, int(np.sqrt(n_rec)))\n",
    "xv_rec, yv_rec = np.meshgrid(x_rec, y_rec)\n",
    "receiver_locations = np.c_[xv_rec.ravel(), yv_rec.ravel()] "
   ]
  },
  {
   "cell_type": "code",
   "execution_count": 6,
   "id": "ffb21d32-e0e8-4df0-8417-1d315217d34a",
   "metadata": {},
   "outputs": [],
   "source": [
    "rx = survey.BaseRx(receiver_locations)\n",
    "\n",
    "# source_list = [\n",
    "#     survey.BaseSrc(\n",
    "#         location=source_locations[i, :], receiver_list=[rx]\n",
    "#     )\n",
    "#     for i in range(y_src.size)\n",
    "# ]\n",
    "\n",
    "source_list = []\n",
    "\n",
    "# for i in range(y_src.size):\n",
    "#     source_list.append(\n",
    "#         survey.BaseSrc(\n",
    "#             location=source_locations[i, :], receiver_list=[rx]\n",
    "#         )\n",
    "#     )\n",
    "\n",
    "for i in range(source_locations.shape[0]):\n",
    "    source_list.append(\n",
    "        survey.BaseSrc(\n",
    "            location=source_locations[i, :],\n",
    "            receiver_list=[rx]\n",
    "        )\n",
    "    )"
   ]
  },
  {
   "cell_type": "code",
   "execution_count": 17,
   "id": "e6d75678-11fe-4fdc-b2df-6b6acd648dea",
   "metadata": {},
   "outputs": [],
   "source": [
    "tomo_survey = seismic.straight_ray_tomography.Survey(source_list)"
   ]
  },
  {
   "cell_type": "code",
   "execution_count": 23,
   "id": "d320b4e8-f303-483a-ae0b-452fd141c76b",
   "metadata": {},
   "outputs": [],
   "source": [
    "simulation = seismic.straight_ray_tomography.Simulation(\n",
    "    mesh=mesh,\n",
    "    survey=tomo_survey,\n",
    "    slownessMap=maps.IdentityMap(mesh),\n",
    ")"
   ]
  },
  {
   "cell_type": "code",
   "execution_count": null,
   "id": "21caaa54-2695-4106-a086-b129b02b5ffa",
   "metadata": {},
   "outputs": [],
   "source": []
  }
 ],
 "metadata": {
  "kernelspec": {
   "display_name": "Python [conda env:base] *",
   "language": "python",
   "name": "conda-base-py"
  },
  "language_info": {
   "codemirror_mode": {
    "name": "ipython",
    "version": 3
   },
   "file_extension": ".py",
   "mimetype": "text/x-python",
   "name": "python",
   "nbconvert_exporter": "python",
   "pygments_lexer": "ipython3",
   "version": "3.12.2"
  }
 },
 "nbformat": 4,
 "nbformat_minor": 5
}
